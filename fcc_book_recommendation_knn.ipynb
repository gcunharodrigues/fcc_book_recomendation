{
  "cells": [
    {
      "cell_type": "markdown",
      "metadata": {
        "id": "view-in-github",
        "colab_type": "text"
      },
      "source": [
        "<a href=\"https://colab.research.google.com/github/gcunharodrigues/fcc_book_recomendation/blob/main/fcc_book_recommendation_knn.ipynb\" target=\"_parent\"><img src=\"https://colab.research.google.com/assets/colab-badge.svg\" alt=\"Open In Colab\"/></a>"
      ]
    },
    {
      "cell_type": "code",
      "execution_count": 156,
      "metadata": {
        "id": "Y1onB6kUvo4Z"
      },
      "outputs": [],
      "source": [
        "# import libraries (you may add additional imports but you may not have to)\n",
        "import numpy as np\n",
        "import pandas as pd\n",
        "from scipy.sparse import csr_matrix\n",
        "from sklearn.neighbors import NearestNeighbors\n",
        "import matplotlib.pyplot as plt\n",
        "from sklearn.preprocessing import StandardScaler, OneHotEncoder\n",
        "from sklearn.compose import ColumnTransformer"
      ]
    },
    {
      "cell_type": "code",
      "source": [],
      "metadata": {
        "id": "hjQxuibwNrfk"
      },
      "execution_count": null,
      "outputs": []
    },
    {
      "cell_type": "code",
      "execution_count": 157,
      "metadata": {
        "id": "iAQGqqO_vo4d",
        "colab": {
          "base_uri": "https://localhost:8080/"
        },
        "outputId": "0d9420e3-7b54-4fe3-8d06-0cb28aac75bb"
      },
      "outputs": [
        {
          "output_type": "stream",
          "name": "stdout",
          "text": [
            "--2025-01-26 20:03:40--  https://cdn.freecodecamp.org/project-data/books/book-crossings.zip\n",
            "Resolving cdn.freecodecamp.org (cdn.freecodecamp.org)... 104.26.3.33, 172.67.70.149, 104.26.2.33, ...\n",
            "Connecting to cdn.freecodecamp.org (cdn.freecodecamp.org)|104.26.3.33|:443... connected.\n",
            "HTTP request sent, awaiting response... 200 OK\n",
            "Length: 26085508 (25M) [application/zip]\n",
            "Saving to: ‘book-crossings.zip.1’\n",
            "\n",
            "book-crossings.zip. 100%[===================>]  24.88M   133MB/s    in 0.2s    \n",
            "\n",
            "2025-01-26 20:03:40 (133 MB/s) - ‘book-crossings.zip.1’ saved [26085508/26085508]\n",
            "\n",
            "Archive:  book-crossings.zip\n",
            "replace BX-Book-Ratings.csv? [y]es, [n]o, [A]ll, [N]one, [r]ename: A\n",
            "  inflating: BX-Book-Ratings.csv     \n",
            "  inflating: BX-Books.csv            \n",
            "  inflating: BX-Users.csv            \n"
          ]
        }
      ],
      "source": [
        "# get data files\n",
        "!wget https://cdn.freecodecamp.org/project-data/books/book-crossings.zip\n",
        "\n",
        "!unzip book-crossings.zip\n",
        "\n",
        "books_filename = 'BX-Books.csv'\n",
        "ratings_filename = 'BX-Book-Ratings.csv'"
      ]
    },
    {
      "cell_type": "code",
      "execution_count": 158,
      "metadata": {
        "id": "NClILWOiEd6Q"
      },
      "outputs": [],
      "source": [
        "# import csv data into dataframes\n",
        "df_books = pd.read_csv(\n",
        "    books_filename,\n",
        "    encoding = \"ISO-8859-1\",\n",
        "    sep=\";\",\n",
        "    header=0,\n",
        "    names=['isbn', 'title', 'author'],\n",
        "    usecols=['isbn', 'title', 'author'],\n",
        "    dtype={'isbn': 'str', 'title': 'str', 'author': 'str'})\n",
        "\n",
        "df_ratings = pd.read_csv(\n",
        "    ratings_filename,\n",
        "    encoding = \"ISO-8859-1\",\n",
        "    sep=\";\",\n",
        "    header=0,\n",
        "    names=['user', 'isbn', 'rating'],\n",
        "    usecols=['user', 'isbn', 'rating'],\n",
        "    dtype={'user': 'int32', 'isbn': 'str', 'rating': 'float32'})"
      ]
    },
    {
      "cell_type": "code",
      "execution_count": 159,
      "metadata": {
        "id": "xAcXjkCFCh0A"
      },
      "outputs": [],
      "source": [
        "# add your code here - consider creating a new cell for each section of code"
      ]
    },
    {
      "cell_type": "code",
      "source": [
        "df_books.info()"
      ],
      "metadata": {
        "colab": {
          "base_uri": "https://localhost:8080/"
        },
        "id": "kYNg91GJkX2h",
        "outputId": "5826cf19-fe6a-44ba-8a45-2074fac5f99e"
      },
      "execution_count": 160,
      "outputs": [
        {
          "output_type": "stream",
          "name": "stdout",
          "text": [
            "<class 'pandas.core.frame.DataFrame'>\n",
            "RangeIndex: 271379 entries, 0 to 271378\n",
            "Data columns (total 3 columns):\n",
            " #   Column  Non-Null Count   Dtype \n",
            "---  ------  --------------   ----- \n",
            " 0   isbn    271379 non-null  object\n",
            " 1   title   271379 non-null  object\n",
            " 2   author  271377 non-null  object\n",
            "dtypes: object(3)\n",
            "memory usage: 6.2+ MB\n"
          ]
        }
      ]
    },
    {
      "cell_type": "code",
      "source": [
        "df_ratings.info()"
      ],
      "metadata": {
        "colab": {
          "base_uri": "https://localhost:8080/"
        },
        "id": "3PoIgZYakeWp",
        "outputId": "cef865aa-9fdd-4997-8881-50532c09a7a6"
      },
      "execution_count": 161,
      "outputs": [
        {
          "output_type": "stream",
          "name": "stdout",
          "text": [
            "<class 'pandas.core.frame.DataFrame'>\n",
            "RangeIndex: 1149780 entries, 0 to 1149779\n",
            "Data columns (total 3 columns):\n",
            " #   Column  Non-Null Count    Dtype  \n",
            "---  ------  --------------    -----  \n",
            " 0   user    1149780 non-null  int32  \n",
            " 1   isbn    1149780 non-null  object \n",
            " 2   rating  1149780 non-null  float32\n",
            "dtypes: float32(1), int32(1), object(1)\n",
            "memory usage: 17.5+ MB\n"
          ]
        }
      ]
    },
    {
      "cell_type": "code",
      "source": [
        "users = df_ratings.groupby('user').agg({'rating': 'count'}).reset_index()\n",
        "users.columns = ['user', 'rating_count']\n",
        "users = users[users['rating_count'] >= 200]"
      ],
      "metadata": {
        "id": "cidrYBzhkBPO"
      },
      "execution_count": 326,
      "outputs": []
    },
    {
      "cell_type": "code",
      "source": [
        "isbns = df_ratings.groupby('isbn').agg({'rating': 'count'}).reset_index()\n",
        "isbns.columns = ['isbn', 'rating_count']\n",
        "isbns = isbns[isbns['rating_count'] >= 100]"
      ],
      "metadata": {
        "id": "vYVC05YUlIjZ"
      },
      "execution_count": 327,
      "outputs": []
    },
    {
      "cell_type": "code",
      "source": [
        "filtered_df_ratings = df_ratings[df_ratings['user'].isin(users['user']) & df_ratings['isbn'].isin(isbns['isbn'])]\n"
      ],
      "metadata": {
        "id": "CQOZsvTglx2p"
      },
      "execution_count": 328,
      "outputs": []
    },
    {
      "cell_type": "code",
      "source": [
        "merged_df = pd.merge(right=filtered_df_ratings, left=df_books, on='isbn')\n",
        "merged_df = merged_df.drop_duplicates(['title', 'user'])"
      ],
      "metadata": {
        "id": "EjsGymmciw7I"
      },
      "execution_count": 334,
      "outputs": []
    },
    {
      "cell_type": "code",
      "source": [
        "merged_df.info()"
      ],
      "metadata": {
        "colab": {
          "base_uri": "https://localhost:8080/"
        },
        "id": "Hr7xB1stkzg7",
        "outputId": "b26a701c-a9d6-42b8-cf7f-62b9716de066"
      },
      "execution_count": 335,
      "outputs": [
        {
          "output_type": "stream",
          "name": "stdout",
          "text": [
            "<class 'pandas.core.frame.DataFrame'>\n",
            "Index: 49136 entries, 0 to 49516\n",
            "Data columns (total 5 columns):\n",
            " #   Column  Non-Null Count  Dtype  \n",
            "---  ------  --------------  -----  \n",
            " 0   isbn    49136 non-null  object \n",
            " 1   title   49136 non-null  object \n",
            " 2   author  49136 non-null  object \n",
            " 3   user    49136 non-null  int32  \n",
            " 4   rating  49136 non-null  float32\n",
            "dtypes: float32(1), int32(1), object(3)\n",
            "memory usage: 1.9+ MB\n"
          ]
        }
      ]
    },
    {
      "cell_type": "code",
      "source": [
        "books_features_pivot = merged_df.pivot(\n",
        "  index='title',\n",
        "  columns='user',\n",
        "  values='rating'\n",
        ").fillna(0)"
      ],
      "metadata": {
        "id": "eii64wYQXN0v"
      },
      "execution_count": 336,
      "outputs": []
    },
    {
      "cell_type": "code",
      "execution_count": 349,
      "metadata": {
        "id": "f5ZUd-L1SQz7"
      },
      "outputs": [],
      "source": [
        "# function to return recommended books - this will be tested\n",
        "def get_recommends(book = \"\"):\n",
        "  recommended_books = []\n",
        "  neighrest_books = []\n",
        "  recommended_books.append(book)\n",
        "\n",
        "  data = books_features_pivot.values\n",
        "  titles = list(books_features_pivot.index.values)\n",
        "\n",
        "  def title_2_index(title):\n",
        "    ind = titles.index(title)\n",
        "    print(title)\n",
        "    return data[ind,:]\n",
        "\n",
        "  def index_2_title(ind):\n",
        "    return titles[ind]\n",
        "\n",
        "  # Building the model\n",
        "  model = NearestNeighbors(metric='cosine')\n",
        "  model.fit(data)\n",
        "\n",
        "  # Running the model\n",
        "  idx = title_2_index(book)\n",
        "  y = model.kneighbors(idx.reshape(1,-1), n_neighbors=7)\n",
        "  list_recomendations = zip(y[0][0], y[1][0])\n",
        "  list_recomendations= sorted(\n",
        "      list(list_recomendations)[1:],\n",
        "      key=lambda x: x[0],\n",
        "      reverse=True\n",
        "  )\n",
        "\n",
        "  for distance, index in list_recomendations:\n",
        "    neighrest_books.append([index_2_title(index), distance])\n",
        "\n",
        "  recommended_books.append(neighrest_books[1:])\n",
        "\n",
        "  return recommended_books"
      ]
    },
    {
      "cell_type": "code",
      "source": [
        "books = get_recommends(\"Where the Heart Is (Oprah's Book Club (Paperback))\")\n",
        "books"
      ],
      "metadata": {
        "colab": {
          "base_uri": "https://localhost:8080/"
        },
        "id": "bg9YcRlw2z1j",
        "outputId": "e6734b8d-484c-407b-fd53-099ab14dc993"
      },
      "execution_count": 350,
      "outputs": [
        {
          "output_type": "stream",
          "name": "stdout",
          "text": [
            "Where the Heart Is (Oprah's Book Club (Paperback))\n"
          ]
        },
        {
          "output_type": "execute_result",
          "data": {
            "text/plain": [
              "[\"Where the Heart Is (Oprah's Book Club (Paperback))\",\n",
              " [[\"I'll Be Seeing You\", 0.8016211],\n",
              "  ['The Weight of Water', 0.77085835],\n",
              "  ['The Surgeon', 0.7699411],\n",
              "  ['I Know This Much Is True', 0.7677075],\n",
              "  ['The Lovely Bones: A Novel', 0.7234864]]]"
            ]
          },
          "metadata": {},
          "execution_count": 350
        }
      ]
    },
    {
      "cell_type": "code",
      "execution_count": 351,
      "metadata": {
        "id": "jd2SLCh8oxMh",
        "colab": {
          "base_uri": "https://localhost:8080/"
        },
        "outputId": "18def6bc-68d8-463a-8a3f-59d785253e35"
      },
      "outputs": [
        {
          "output_type": "stream",
          "name": "stdout",
          "text": [
            "Where the Heart Is (Oprah's Book Club (Paperback))\n",
            "[\"Where the Heart Is (Oprah's Book Club (Paperback))\", [[\"I'll Be Seeing You\", 0.8016211], ['The Weight of Water', 0.77085835], ['The Surgeon', 0.7699411], ['I Know This Much Is True', 0.7677075], ['The Lovely Bones: A Novel', 0.7234864]]]\n",
            "Where the Heart Is (Oprah's Book Club (Paperback))\n",
            "You passed the challenge! 🎉🎉🎉🎉🎉\n"
          ]
        }
      ],
      "source": [
        "books = get_recommends(\"Where the Heart Is (Oprah's Book Club (Paperback))\")\n",
        "print(books)\n",
        "\n",
        "def test_book_recommendation():\n",
        "  test_pass = True\n",
        "  recommends = get_recommends(\"Where the Heart Is (Oprah's Book Club (Paperback))\")\n",
        "  if recommends[0] != \"Where the Heart Is (Oprah's Book Club (Paperback))\":\n",
        "    test_pass = False\n",
        "  recommended_books = [\"I'll Be Seeing You\", 'The Weight of Water', 'The Surgeon', 'I Know This Much Is True']\n",
        "  recommended_books_dist = [0.8, 0.77, 0.77, 0.77]\n",
        "  for i in range(2):\n",
        "    if recommends[1][i][0] not in recommended_books:\n",
        "      test_pass = False\n",
        "    if abs(recommends[1][i][1] - recommended_books_dist[i]) >= 0.05:\n",
        "      test_pass = False\n",
        "  if test_pass:\n",
        "    print(\"You passed the challenge! 🎉🎉🎉🎉🎉\")\n",
        "  else:\n",
        "    print(\"You haven't passed yet. Keep trying!\")\n",
        "\n",
        "test_book_recommendation()"
      ]
    }
  ],
  "metadata": {
    "colab": {
      "provenance": [],
      "include_colab_link": true
    },
    "kernelspec": {
      "display_name": "Python 3",
      "language": "python",
      "name": "python3"
    },
    "language_info": {
      "codemirror_mode": {
        "name": "ipython",
        "version": 3
      },
      "file_extension": ".py",
      "mimetype": "text/x-python",
      "name": "python",
      "nbconvert_exporter": "python",
      "pygments_lexer": "ipython3",
      "version": "3.6.5"
    }
  },
  "nbformat": 4,
  "nbformat_minor": 0
}